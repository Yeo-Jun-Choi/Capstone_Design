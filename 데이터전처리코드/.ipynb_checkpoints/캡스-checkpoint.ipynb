{
 "cells": [
  {
   "cell_type": "code",
   "execution_count": 44,
   "metadata": {
    "scrolled": true
   },
   "outputs": [],
   "source": [
    "import mat73\n",
    "X_speed = mat73.loadmat('C:/Users/yeab0/Desktop/work/X_speed.mat')\n",
    "Y_speed = mat73.loadmat('C:/Users/yeab0/Desktop/work/Y_speed.mat')\n",
    "Z_speed = mat73.loadmat('C:/Users/yeab0/Desktop/work/Z_speed.mat')"
   ]
  },
  {
   "cell_type": "code",
   "execution_count": 45,
   "metadata": {},
   "outputs": [
    {
     "data": {
      "text/plain": [
       "array([[ 0.00000000e+00,  1.00000000e-02,  2.00000000e-02, ...,\n",
       "         2.49800000e+01,  2.49900000e+01,  2.50000000e+01],\n",
       "       [ 0.00000000e+00, -2.71518915e-25, -2.55898713e-25, ...,\n",
       "        -4.76266390e-03, -4.74285835e-03, -4.75605208e-03]])"
      ]
     },
     "execution_count": 45,
     "metadata": {},
     "output_type": "execute_result"
    }
   ],
   "source": [
    "X_speed['ans']\n",
    "Y_speed['ans']\n",
    "Z_speed['ans']"
   ]
  },
  {
   "cell_type": "code",
   "execution_count": 46,
   "metadata": {},
   "outputs": [],
   "source": [
    "import pandas as pd"
   ]
  },
  {
   "cell_type": "code",
   "execution_count": 47,
   "metadata": {},
   "outputs": [],
   "source": [
    "data = pd.DataFrame(X_speed['ans']) # x축 각속도\n",
    "data1 = pd.DataFrame(Y_speed['ans']) # y축 각속도\n",
    "data2 = pd.DataFrame(Z_speed['ans']) # z축 각속도"
   ]
  },
  {
   "cell_type": "code",
   "execution_count": 48,
   "metadata": {},
   "outputs": [],
   "source": [
    "data = data.transpose()\n",
    "data1 = data1.transpose()\n",
    "data2 = data2.transpose()"
   ]
  },
  {
   "cell_type": "code",
   "execution_count": 49,
   "metadata": {},
   "outputs": [],
   "source": [
    "data[2]= data1[1] #y축 각속도"
   ]
  },
  {
   "cell_type": "code",
   "execution_count": 50,
   "metadata": {},
   "outputs": [],
   "source": [
    "data[3]= data2[1] #z축 각속도"
   ]
  },
  {
   "cell_type": "code",
   "execution_count": 51,
   "metadata": {},
   "outputs": [],
   "source": [
    "data[4] = data[1]/(((data[1]**2)+(data[2]**2)+(data[3]**2))**0.5) #x축 각속도 단위벡터화"
   ]
  },
  {
   "cell_type": "code",
   "execution_count": 52,
   "metadata": {},
   "outputs": [],
   "source": [
    "data[5] = data[2]/(((data[1]**2)+(data[2]**2)+(data[3]**2))**0.5) #y축 각속도 단위벡터화"
   ]
  },
  {
   "cell_type": "code",
   "execution_count": 53,
   "metadata": {},
   "outputs": [],
   "source": [
    "data[6] = data[3]/(((data[1]**2)+(data[2]**2)+(data[3]**2))**0.5) #z축 각속도 단위벡터화"
   ]
  },
  {
   "cell_type": "code",
   "execution_count": 54,
   "metadata": {},
   "outputs": [],
   "source": [
    "data[7] = (data[4]**2)+(data[5]**2)+(data[6]**2) #  단위벡터 검증, x^2 + y^2 + z^2 =1"
   ]
  },
  {
   "cell_type": "code",
   "execution_count": 55,
   "metadata": {
    "scrolled": false
   },
   "outputs": [
    {
     "data": {
      "text/html": [
       "<div>\n",
       "<style scoped>\n",
       "    .dataframe tbody tr th:only-of-type {\n",
       "        vertical-align: middle;\n",
       "    }\n",
       "\n",
       "    .dataframe tbody tr th {\n",
       "        vertical-align: top;\n",
       "    }\n",
       "\n",
       "    .dataframe thead th {\n",
       "        text-align: right;\n",
       "    }\n",
       "</style>\n",
       "<table border=\"1\" class=\"dataframe\">\n",
       "  <thead>\n",
       "    <tr style=\"text-align: right;\">\n",
       "      <th></th>\n",
       "      <th>0</th>\n",
       "      <th>1</th>\n",
       "      <th>2</th>\n",
       "      <th>3</th>\n",
       "      <th>4</th>\n",
       "      <th>5</th>\n",
       "      <th>6</th>\n",
       "      <th>7</th>\n",
       "    </tr>\n",
       "  </thead>\n",
       "  <tbody>\n",
       "    <tr>\n",
       "      <th>0</th>\n",
       "      <td>0.00</td>\n",
       "      <td>0.000000e+00</td>\n",
       "      <td>0.000000e+00</td>\n",
       "      <td>0.000000e+00</td>\n",
       "      <td>NaN</td>\n",
       "      <td>NaN</td>\n",
       "      <td>NaN</td>\n",
       "      <td>NaN</td>\n",
       "    </tr>\n",
       "    <tr>\n",
       "      <th>1</th>\n",
       "      <td>0.01</td>\n",
       "      <td>-3.103603e-22</td>\n",
       "      <td>-3.754858e-20</td>\n",
       "      <td>-2.715189e-25</td>\n",
       "      <td>-0.008265</td>\n",
       "      <td>-0.999966</td>\n",
       "      <td>-0.000007</td>\n",
       "      <td>1.0</td>\n",
       "    </tr>\n",
       "    <tr>\n",
       "      <th>2</th>\n",
       "      <td>0.02</td>\n",
       "      <td>-5.983871e-22</td>\n",
       "      <td>-7.482708e-20</td>\n",
       "      <td>-2.558987e-25</td>\n",
       "      <td>-0.007997</td>\n",
       "      <td>-0.999968</td>\n",
       "      <td>-0.000003</td>\n",
       "      <td>1.0</td>\n",
       "    </tr>\n",
       "    <tr>\n",
       "      <th>3</th>\n",
       "      <td>0.03</td>\n",
       "      <td>-8.976797e-22</td>\n",
       "      <td>-1.122418e-19</td>\n",
       "      <td>-3.820580e-25</td>\n",
       "      <td>-0.007997</td>\n",
       "      <td>-0.999968</td>\n",
       "      <td>-0.000003</td>\n",
       "      <td>1.0</td>\n",
       "    </tr>\n",
       "    <tr>\n",
       "      <th>4</th>\n",
       "      <td>0.04</td>\n",
       "      <td>-1.196950e-21</td>\n",
       "      <td>-1.496563e-19</td>\n",
       "      <td>-5.077731e-25</td>\n",
       "      <td>-0.007998</td>\n",
       "      <td>-0.999968</td>\n",
       "      <td>-0.000003</td>\n",
       "      <td>1.0</td>\n",
       "    </tr>\n",
       "    <tr>\n",
       "      <th>...</th>\n",
       "      <td>...</td>\n",
       "      <td>...</td>\n",
       "      <td>...</td>\n",
       "      <td>...</td>\n",
       "      <td>...</td>\n",
       "      <td>...</td>\n",
       "      <td>...</td>\n",
       "      <td>...</td>\n",
       "    </tr>\n",
       "    <tr>\n",
       "      <th>2496</th>\n",
       "      <td>24.96</td>\n",
       "      <td>-4.567995e-04</td>\n",
       "      <td>1.400378e-05</td>\n",
       "      <td>-4.767823e-03</td>\n",
       "      <td>-0.095372</td>\n",
       "      <td>0.002924</td>\n",
       "      <td>-0.995437</td>\n",
       "      <td>1.0</td>\n",
       "    </tr>\n",
       "    <tr>\n",
       "      <th>2497</th>\n",
       "      <td>24.97</td>\n",
       "      <td>-4.632632e-04</td>\n",
       "      <td>1.957148e-05</td>\n",
       "      <td>-4.755330e-03</td>\n",
       "      <td>-0.096960</td>\n",
       "      <td>0.004096</td>\n",
       "      <td>-0.995280</td>\n",
       "      <td>1.0</td>\n",
       "    </tr>\n",
       "    <tr>\n",
       "      <th>2498</th>\n",
       "      <td>24.98</td>\n",
       "      <td>-4.563312e-04</td>\n",
       "      <td>4.941597e-05</td>\n",
       "      <td>-4.762664e-03</td>\n",
       "      <td>-0.095372</td>\n",
       "      <td>0.010328</td>\n",
       "      <td>-0.995388</td>\n",
       "      <td>1.0</td>\n",
       "    </tr>\n",
       "    <tr>\n",
       "      <th>2499</th>\n",
       "      <td>24.99</td>\n",
       "      <td>-4.667471e-04</td>\n",
       "      <td>5.083813e-05</td>\n",
       "      <td>-4.742858e-03</td>\n",
       "      <td>-0.097932</td>\n",
       "      <td>0.010667</td>\n",
       "      <td>-0.995136</td>\n",
       "      <td>1.0</td>\n",
       "    </tr>\n",
       "    <tr>\n",
       "      <th>2500</th>\n",
       "      <td>25.00</td>\n",
       "      <td>-4.827812e-04</td>\n",
       "      <td>5.952671e-05</td>\n",
       "      <td>-4.756052e-03</td>\n",
       "      <td>-0.100982</td>\n",
       "      <td>0.012451</td>\n",
       "      <td>-0.994810</td>\n",
       "      <td>1.0</td>\n",
       "    </tr>\n",
       "  </tbody>\n",
       "</table>\n",
       "<p>2501 rows × 8 columns</p>\n",
       "</div>"
      ],
      "text/plain": [
       "          0             1             2             3         4         5  \\\n",
       "0      0.00  0.000000e+00  0.000000e+00  0.000000e+00       NaN       NaN   \n",
       "1      0.01 -3.103603e-22 -3.754858e-20 -2.715189e-25 -0.008265 -0.999966   \n",
       "2      0.02 -5.983871e-22 -7.482708e-20 -2.558987e-25 -0.007997 -0.999968   \n",
       "3      0.03 -8.976797e-22 -1.122418e-19 -3.820580e-25 -0.007997 -0.999968   \n",
       "4      0.04 -1.196950e-21 -1.496563e-19 -5.077731e-25 -0.007998 -0.999968   \n",
       "...     ...           ...           ...           ...       ...       ...   \n",
       "2496  24.96 -4.567995e-04  1.400378e-05 -4.767823e-03 -0.095372  0.002924   \n",
       "2497  24.97 -4.632632e-04  1.957148e-05 -4.755330e-03 -0.096960  0.004096   \n",
       "2498  24.98 -4.563312e-04  4.941597e-05 -4.762664e-03 -0.095372  0.010328   \n",
       "2499  24.99 -4.667471e-04  5.083813e-05 -4.742858e-03 -0.097932  0.010667   \n",
       "2500  25.00 -4.827812e-04  5.952671e-05 -4.756052e-03 -0.100982  0.012451   \n",
       "\n",
       "             6    7  \n",
       "0          NaN  NaN  \n",
       "1    -0.000007  1.0  \n",
       "2    -0.000003  1.0  \n",
       "3    -0.000003  1.0  \n",
       "4    -0.000003  1.0  \n",
       "...        ...  ...  \n",
       "2496 -0.995437  1.0  \n",
       "2497 -0.995280  1.0  \n",
       "2498 -0.995388  1.0  \n",
       "2499 -0.995136  1.0  \n",
       "2500 -0.994810  1.0  \n",
       "\n",
       "[2501 rows x 8 columns]"
      ]
     },
     "execution_count": 55,
     "metadata": {},
     "output_type": "execute_result"
    }
   ],
   "source": [
    "data"
   ]
  },
  {
   "cell_type": "code",
   "execution_count": 73,
   "metadata": {},
   "outputs": [
    {
     "data": {
      "text/html": [
       "<div>\n",
       "<style scoped>\n",
       "    .dataframe tbody tr th:only-of-type {\n",
       "        vertical-align: middle;\n",
       "    }\n",
       "\n",
       "    .dataframe tbody tr th {\n",
       "        vertical-align: top;\n",
       "    }\n",
       "\n",
       "    .dataframe thead th {\n",
       "        text-align: right;\n",
       "    }\n",
       "</style>\n",
       "<table border=\"1\" class=\"dataframe\">\n",
       "  <thead>\n",
       "    <tr style=\"text-align: right;\">\n",
       "      <th></th>\n",
       "      <th>0</th>\n",
       "      <th>1</th>\n",
       "      <th>2</th>\n",
       "      <th>3</th>\n",
       "      <th>4</th>\n",
       "      <th>5</th>\n",
       "      <th>6</th>\n",
       "      <th>7</th>\n",
       "    </tr>\n",
       "  </thead>\n",
       "  <tbody>\n",
       "    <tr>\n",
       "      <th>522</th>\n",
       "      <td>5.22</td>\n",
       "      <td>-0.013053</td>\n",
       "      <td>0.004135</td>\n",
       "      <td>0.000402</td>\n",
       "      <td>-0.952904</td>\n",
       "      <td>0.301850</td>\n",
       "      <td>0.029348</td>\n",
       "      <td>1.0</td>\n",
       "    </tr>\n",
       "    <tr>\n",
       "      <th>523</th>\n",
       "      <td>5.23</td>\n",
       "      <td>-0.016679</td>\n",
       "      <td>0.004096</td>\n",
       "      <td>0.000381</td>\n",
       "      <td>-0.970902</td>\n",
       "      <td>0.238450</td>\n",
       "      <td>0.022153</td>\n",
       "      <td>1.0</td>\n",
       "    </tr>\n",
       "    <tr>\n",
       "      <th>524</th>\n",
       "      <td>5.24</td>\n",
       "      <td>-0.020177</td>\n",
       "      <td>0.006010</td>\n",
       "      <td>0.000332</td>\n",
       "      <td>-0.958273</td>\n",
       "      <td>0.285419</td>\n",
       "      <td>0.015752</td>\n",
       "      <td>1.0</td>\n",
       "    </tr>\n",
       "    <tr>\n",
       "      <th>525</th>\n",
       "      <td>5.25</td>\n",
       "      <td>-0.023584</td>\n",
       "      <td>0.005288</td>\n",
       "      <td>0.000344</td>\n",
       "      <td>-0.975677</td>\n",
       "      <td>0.218751</td>\n",
       "      <td>0.014243</td>\n",
       "      <td>1.0</td>\n",
       "    </tr>\n",
       "    <tr>\n",
       "      <th>526</th>\n",
       "      <td>5.26</td>\n",
       "      <td>-0.026565</td>\n",
       "      <td>0.008063</td>\n",
       "      <td>0.000389</td>\n",
       "      <td>-0.956798</td>\n",
       "      <td>0.290415</td>\n",
       "      <td>0.014012</td>\n",
       "      <td>1.0</td>\n",
       "    </tr>\n",
       "    <tr>\n",
       "      <th>...</th>\n",
       "      <td>...</td>\n",
       "      <td>...</td>\n",
       "      <td>...</td>\n",
       "      <td>...</td>\n",
       "      <td>...</td>\n",
       "      <td>...</td>\n",
       "      <td>...</td>\n",
       "      <td>...</td>\n",
       "    </tr>\n",
       "    <tr>\n",
       "      <th>2496</th>\n",
       "      <td>24.96</td>\n",
       "      <td>-0.000457</td>\n",
       "      <td>0.000014</td>\n",
       "      <td>-0.004768</td>\n",
       "      <td>-0.095372</td>\n",
       "      <td>0.002924</td>\n",
       "      <td>-0.995437</td>\n",
       "      <td>1.0</td>\n",
       "    </tr>\n",
       "    <tr>\n",
       "      <th>2497</th>\n",
       "      <td>24.97</td>\n",
       "      <td>-0.000463</td>\n",
       "      <td>0.000020</td>\n",
       "      <td>-0.004755</td>\n",
       "      <td>-0.096960</td>\n",
       "      <td>0.004096</td>\n",
       "      <td>-0.995280</td>\n",
       "      <td>1.0</td>\n",
       "    </tr>\n",
       "    <tr>\n",
       "      <th>2498</th>\n",
       "      <td>24.98</td>\n",
       "      <td>-0.000456</td>\n",
       "      <td>0.000049</td>\n",
       "      <td>-0.004763</td>\n",
       "      <td>-0.095372</td>\n",
       "      <td>0.010328</td>\n",
       "      <td>-0.995388</td>\n",
       "      <td>1.0</td>\n",
       "    </tr>\n",
       "    <tr>\n",
       "      <th>2499</th>\n",
       "      <td>24.99</td>\n",
       "      <td>-0.000467</td>\n",
       "      <td>0.000051</td>\n",
       "      <td>-0.004743</td>\n",
       "      <td>-0.097932</td>\n",
       "      <td>0.010667</td>\n",
       "      <td>-0.995136</td>\n",
       "      <td>1.0</td>\n",
       "    </tr>\n",
       "    <tr>\n",
       "      <th>2500</th>\n",
       "      <td>25.00</td>\n",
       "      <td>-0.000483</td>\n",
       "      <td>0.000060</td>\n",
       "      <td>-0.004756</td>\n",
       "      <td>-0.100982</td>\n",
       "      <td>0.012451</td>\n",
       "      <td>-0.994810</td>\n",
       "      <td>1.0</td>\n",
       "    </tr>\n",
       "  </tbody>\n",
       "</table>\n",
       "<p>1979 rows × 8 columns</p>\n",
       "</div>"
      ],
      "text/plain": [
       "          0         1         2         3         4         5         6    7\n",
       "522    5.22 -0.013053  0.004135  0.000402 -0.952904  0.301850  0.029348  1.0\n",
       "523    5.23 -0.016679  0.004096  0.000381 -0.970902  0.238450  0.022153  1.0\n",
       "524    5.24 -0.020177  0.006010  0.000332 -0.958273  0.285419  0.015752  1.0\n",
       "525    5.25 -0.023584  0.005288  0.000344 -0.975677  0.218751  0.014243  1.0\n",
       "526    5.26 -0.026565  0.008063  0.000389 -0.956798  0.290415  0.014012  1.0\n",
       "...     ...       ...       ...       ...       ...       ...       ...  ...\n",
       "2496  24.96 -0.000457  0.000014 -0.004768 -0.095372  0.002924 -0.995437  1.0\n",
       "2497  24.97 -0.000463  0.000020 -0.004755 -0.096960  0.004096 -0.995280  1.0\n",
       "2498  24.98 -0.000456  0.000049 -0.004763 -0.095372  0.010328 -0.995388  1.0\n",
       "2499  24.99 -0.000467  0.000051 -0.004743 -0.097932  0.010667 -0.995136  1.0\n",
       "2500  25.00 -0.000483  0.000060 -0.004756 -0.100982  0.012451 -0.994810  1.0\n",
       "\n",
       "[1979 rows x 8 columns]"
      ]
     },
     "execution_count": 73,
     "metadata": {},
     "output_type": "execute_result"
    }
   ],
   "source": [
    "data_t"
   ]
  },
  {
   "cell_type": "code",
   "execution_count": 65,
   "metadata": {},
   "outputs": [],
   "source": [
    "data_t = data[522:2501]"
   ]
  },
  {
   "cell_type": "code",
   "execution_count": 66,
   "metadata": {},
   "outputs": [
    {
     "data": {
      "text/plain": [
       "0.002614421472121115"
      ]
     },
     "execution_count": 66,
     "metadata": {},
     "output_type": "execute_result"
    }
   ],
   "source": [
    "data_t[1].sum()*0.01"
   ]
  },
  {
   "cell_type": "code",
   "execution_count": 67,
   "metadata": {},
   "outputs": [
    {
     "data": {
      "text/plain": [
       "-0.0018978467882814244"
      ]
     },
     "execution_count": 67,
     "metadata": {},
     "output_type": "execute_result"
    }
   ],
   "source": [
    "data_t[2].sum()*0.01"
   ]
  },
  {
   "cell_type": "code",
   "execution_count": 68,
   "metadata": {},
   "outputs": [
    {
     "data": {
      "text/plain": [
       "-0.09883849867848615"
      ]
     },
     "execution_count": 68,
     "metadata": {},
     "output_type": "execute_result"
    }
   ],
   "source": [
    "data_t[3].sum()*0.01"
   ]
  },
  {
   "cell_type": "code",
   "execution_count": 69,
   "metadata": {},
   "outputs": [
    {
     "data": {
      "text/plain": [
       "-0.6236382246188714"
      ]
     },
     "execution_count": 69,
     "metadata": {},
     "output_type": "execute_result"
    }
   ],
   "source": [
    "data_t[4].sum()*0.01"
   ]
  },
  {
   "cell_type": "code",
   "execution_count": 70,
   "metadata": {},
   "outputs": [
    {
     "data": {
      "text/plain": [
       "-0.09462643511197286"
      ]
     },
     "execution_count": 70,
     "metadata": {},
     "output_type": "execute_result"
    }
   ],
   "source": [
    "data_t[5].sum()*0.01"
   ]
  },
  {
   "cell_type": "code",
   "execution_count": 71,
   "metadata": {},
   "outputs": [
    {
     "data": {
      "text/plain": [
       "-13.727172446553334"
      ]
     },
     "execution_count": 71,
     "metadata": {},
     "output_type": "execute_result"
    }
   ],
   "source": [
    "data_t[6].sum()*0.01"
   ]
  },
  {
   "cell_type": "code",
   "execution_count": 72,
   "metadata": {},
   "outputs": [
    {
     "data": {
      "text/plain": [
       "19.79"
      ]
     },
     "execution_count": 72,
     "metadata": {},
     "output_type": "execute_result"
    }
   ],
   "source": [
    "data_t[7].sum()*0.01"
   ]
  },
  {
   "cell_type": "code",
   "execution_count": null,
   "metadata": {},
   "outputs": [],
   "source": []
  }
 ],
 "metadata": {
  "kernelspec": {
   "display_name": "Python 3",
   "language": "python",
   "name": "python3"
  },
  "language_info": {
   "codemirror_mode": {
    "name": "ipython",
    "version": 3
   },
   "file_extension": ".py",
   "mimetype": "text/x-python",
   "name": "python",
   "nbconvert_exporter": "python",
   "pygments_lexer": "ipython3",
   "version": "3.7.6"
  }
 },
 "nbformat": 4,
 "nbformat_minor": 4
}

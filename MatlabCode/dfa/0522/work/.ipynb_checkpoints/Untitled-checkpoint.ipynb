{
 "cells": [
  {
   "cell_type": "code",
   "execution_count": 2,
   "metadata": {
    "scrolled": true
   },
   "outputs": [
    {
     "name": "stdout",
     "output_type": "stream",
     "text": [
      "Collecting mat73\n",
      "  Downloading mat73-0.46-py3-none-any.whl (17 kB)\n",
      "Collecting h5py\n",
      "  Downloading h5py-3.1.0-cp39-cp39-win_amd64.whl (2.7 MB)\n",
      "Collecting numpy\n",
      "  Downloading numpy-1.20.0-cp39-cp39-win_amd64.whl (13.7 MB)\n",
      "Installing collected packages: numpy, h5py, mat73\n",
      "Successfully installed h5py-3.1.0 mat73-0.46 numpy-1.20.0\n",
      "Note: you may need to restart the kernel to use updated packages.\n"
     ]
    },
    {
     "name": "stderr",
     "output_type": "stream",
     "text": [
      "WARNING: You are using pip version 20.2.3; however, version 21.0.1 is available.\n",
      "You should consider upgrading via the 'c:\\users\\yeab0\\appdata\\local\\programs\\python\\python39\\python.exe -m pip install --upgrade pip' command.\n"
     ]
    }
   ],
   "source": [
    "pip install mat73"
   ]
  },
  {
   "cell_type": "code",
   "execution_count": 8,
   "metadata": {},
   "outputs": [
    {
     "name": "stdout",
     "output_type": "stream",
     "text": [
      "Collecting pandas\n",
      "  Downloading pandas-1.2.1-cp39-cp39-win_amd64.whl (9.3 MB)\n",
      "Requirement already satisfied: numpy>=1.16.5 in c:\\users\\yeab0\\appdata\\local\\programs\\python\\python39\\lib\\site-packages (from pandas) (1.20.0)\n",
      "Requirement already satisfied: python-dateutil>=2.7.3 in c:\\users\\yeab0\\appdata\\local\\programs\\python\\python39\\lib\\site-packages (from pandas) (2.8.1)\n",
      "Collecting pytz>=2017.3\n",
      "  Downloading pytz-2020.5-py2.py3-none-any.whl (510 kB)\n",
      "Requirement already satisfied: six>=1.5 in c:\\users\\yeab0\\appdata\\local\\programs\\python\\python39\\lib\\site-packages (from python-dateutil>=2.7.3->pandas) (1.15.0)\n",
      "Installing collected packages: pytz, pandas\n",
      "Successfully installed pandas-1.2.1 pytz-2020.5\n",
      "Note: you may need to restart the kernel to use updated packages.\n"
     ]
    },
    {
     "name": "stderr",
     "output_type": "stream",
     "text": [
      "WARNING: You are using pip version 20.2.3; however, version 21.0.1 is available.\n",
      "You should consider upgrading via the 'c:\\users\\yeab0\\appdata\\local\\programs\\python\\python39\\python.exe -m pip install --upgrade pip' command.\n"
     ]
    }
   ],
   "source": [
    "pip install pandas"
   ]
  },
  {
   "cell_type": "code",
   "execution_count": 1,
   "metadata": {
    "scrolled": true
   },
   "outputs": [],
   "source": [
    "import mat73\n",
    "X_speed = mat73.loadmat('C:/Users/yeab0/Desktop/work/X_speed.mat')\n",
    "Y_speed = mat73.loadmat('C:/Users/yeab0/Desktop/work/Y_speed.mat')\n",
    "Z_speed = mat73.loadmat('C:/Users/yeab0/Desktop/work/Z_speed.mat')"
   ]
  },
  {
   "cell_type": "code",
   "execution_count": 2,
   "metadata": {},
   "outputs": [
    {
     "data": {
      "text/plain": [
       "array([[ 0.00000000e+00,  1.00000000e-02,  2.00000000e-02, ...,\n",
       "         2.49800000e+01,  2.49900000e+01,  2.50000000e+01],\n",
       "       [ 0.00000000e+00, -2.71518915e-25, -2.55898713e-25, ...,\n",
       "        -4.76266390e-03, -4.74285835e-03, -4.75605208e-03]])"
      ]
     },
     "execution_count": 2,
     "metadata": {},
     "output_type": "execute_result"
    }
   ],
   "source": [
    "X_speed['ans']\n",
    "Y_speed['ans']\n",
    "Z_speed['ans']"
   ]
  },
  {
   "cell_type": "code",
   "execution_count": 3,
   "metadata": {},
   "outputs": [],
   "source": [
    "import pandas as pd"
   ]
  },
  {
   "cell_type": "code",
   "execution_count": 4,
   "metadata": {},
   "outputs": [],
   "source": [
    "data = pd.DataFrame(X_speed['ans'])\n",
    "data1 = pd.DataFrame(Y_speed['ans'])\n",
    "data2 = pd.DataFrame(Z_speed['ans'])"
   ]
  },
  {
   "cell_type": "code",
   "execution_count": 5,
   "metadata": {},
   "outputs": [],
   "source": [
    "data = data.transpose()\n",
    "data1 = data1.transpose()\n",
    "data2 = data2.transpose()"
   ]
  },
  {
   "cell_type": "code",
   "execution_count": 6,
   "metadata": {},
   "outputs": [],
   "source": [
    "data[2]= data1[1]"
   ]
  },
  {
   "cell_type": "code",
   "execution_count": 10,
   "metadata": {},
   "outputs": [],
   "source": [
    "data[3] = data[1]/(((data[1]**2)+(data[2]**2))**0.5)"
   ]
  },
  {
   "cell_type": "code",
   "execution_count": 11,
   "metadata": {},
   "outputs": [],
   "source": [
    "data[4] = data[2]/(((data[1]**2)+(data[2]**2))**0.5)"
   ]
  },
  {
   "cell_type": "code",
   "execution_count": 12,
   "metadata": {},
   "outputs": [
    {
     "data": {
      "text/html": [
       "<div>\n",
       "<style scoped>\n",
       "    .dataframe tbody tr th:only-of-type {\n",
       "        vertical-align: middle;\n",
       "    }\n",
       "\n",
       "    .dataframe tbody tr th {\n",
       "        vertical-align: top;\n",
       "    }\n",
       "\n",
       "    .dataframe thead th {\n",
       "        text-align: right;\n",
       "    }\n",
       "</style>\n",
       "<table border=\"1\" class=\"dataframe\">\n",
       "  <thead>\n",
       "    <tr style=\"text-align: right;\">\n",
       "      <th></th>\n",
       "      <th>0</th>\n",
       "      <th>1</th>\n",
       "      <th>2</th>\n",
       "      <th>3</th>\n",
       "      <th>4</th>\n",
       "    </tr>\n",
       "  </thead>\n",
       "  <tbody>\n",
       "    <tr>\n",
       "      <th>0</th>\n",
       "      <td>0.00</td>\n",
       "      <td>0.000000e+00</td>\n",
       "      <td>0.000000e+00</td>\n",
       "      <td>NaN</td>\n",
       "      <td>NaN</td>\n",
       "    </tr>\n",
       "    <tr>\n",
       "      <th>1</th>\n",
       "      <td>0.01</td>\n",
       "      <td>-3.103603e-22</td>\n",
       "      <td>-3.754858e-20</td>\n",
       "      <td>-0.008265</td>\n",
       "      <td>-0.999966</td>\n",
       "    </tr>\n",
       "    <tr>\n",
       "      <th>2</th>\n",
       "      <td>0.02</td>\n",
       "      <td>-5.983871e-22</td>\n",
       "      <td>-7.482708e-20</td>\n",
       "      <td>-0.007997</td>\n",
       "      <td>-0.999968</td>\n",
       "    </tr>\n",
       "    <tr>\n",
       "      <th>3</th>\n",
       "      <td>0.03</td>\n",
       "      <td>-8.976797e-22</td>\n",
       "      <td>-1.122418e-19</td>\n",
       "      <td>-0.007997</td>\n",
       "      <td>-0.999968</td>\n",
       "    </tr>\n",
       "    <tr>\n",
       "      <th>4</th>\n",
       "      <td>0.04</td>\n",
       "      <td>-1.196950e-21</td>\n",
       "      <td>-1.496563e-19</td>\n",
       "      <td>-0.007998</td>\n",
       "      <td>-0.999968</td>\n",
       "    </tr>\n",
       "    <tr>\n",
       "      <th>...</th>\n",
       "      <td>...</td>\n",
       "      <td>...</td>\n",
       "      <td>...</td>\n",
       "      <td>...</td>\n",
       "      <td>...</td>\n",
       "    </tr>\n",
       "    <tr>\n",
       "      <th>2496</th>\n",
       "      <td>24.96</td>\n",
       "      <td>-4.567995e-04</td>\n",
       "      <td>1.400378e-05</td>\n",
       "      <td>-0.999530</td>\n",
       "      <td>0.030642</td>\n",
       "    </tr>\n",
       "    <tr>\n",
       "      <th>2497</th>\n",
       "      <td>24.97</td>\n",
       "      <td>-4.632632e-04</td>\n",
       "      <td>1.957148e-05</td>\n",
       "      <td>-0.999109</td>\n",
       "      <td>0.042209</td>\n",
       "    </tr>\n",
       "    <tr>\n",
       "      <th>2498</th>\n",
       "      <td>24.98</td>\n",
       "      <td>-4.563312e-04</td>\n",
       "      <td>4.941597e-05</td>\n",
       "      <td>-0.994188</td>\n",
       "      <td>0.107660</td>\n",
       "    </tr>\n",
       "    <tr>\n",
       "      <th>2499</th>\n",
       "      <td>24.99</td>\n",
       "      <td>-4.667471e-04</td>\n",
       "      <td>5.083813e-05</td>\n",
       "      <td>-0.994120</td>\n",
       "      <td>0.108280</td>\n",
       "    </tr>\n",
       "    <tr>\n",
       "      <th>2500</th>\n",
       "      <td>25.00</td>\n",
       "      <td>-4.827812e-04</td>\n",
       "      <td>5.952671e-05</td>\n",
       "      <td>-0.992484</td>\n",
       "      <td>0.122373</td>\n",
       "    </tr>\n",
       "  </tbody>\n",
       "</table>\n",
       "<p>2501 rows × 5 columns</p>\n",
       "</div>"
      ],
      "text/plain": [
       "          0             1             2         3         4\n",
       "0      0.00  0.000000e+00  0.000000e+00       NaN       NaN\n",
       "1      0.01 -3.103603e-22 -3.754858e-20 -0.008265 -0.999966\n",
       "2      0.02 -5.983871e-22 -7.482708e-20 -0.007997 -0.999968\n",
       "3      0.03 -8.976797e-22 -1.122418e-19 -0.007997 -0.999968\n",
       "4      0.04 -1.196950e-21 -1.496563e-19 -0.007998 -0.999968\n",
       "...     ...           ...           ...       ...       ...\n",
       "2496  24.96 -4.567995e-04  1.400378e-05 -0.999530  0.030642\n",
       "2497  24.97 -4.632632e-04  1.957148e-05 -0.999109  0.042209\n",
       "2498  24.98 -4.563312e-04  4.941597e-05 -0.994188  0.107660\n",
       "2499  24.99 -4.667471e-04  5.083813e-05 -0.994120  0.108280\n",
       "2500  25.00 -4.827812e-04  5.952671e-05 -0.992484  0.122373\n",
       "\n",
       "[2501 rows x 5 columns]"
      ]
     },
     "execution_count": 12,
     "metadata": {},
     "output_type": "execute_result"
    }
   ],
   "source": [
    "data"
   ]
  },
  {
   "cell_type": "code",
   "execution_count": 24,
   "metadata": {},
   "outputs": [
    {
     "data": {
      "text/plain": [
       "0.003843014514955021"
      ]
     },
     "execution_count": 24,
     "metadata": {},
     "output_type": "execute_result"
    }
   ],
   "source": [
    "data[1].sum()*0.01"
   ]
  },
  {
   "cell_type": "code",
   "execution_count": 25,
   "metadata": {},
   "outputs": [
    {
     "data": {
      "text/plain": [
       "-0.0022151076578605356"
      ]
     },
     "execution_count": 25,
     "metadata": {},
     "output_type": "execute_result"
    }
   ],
   "source": [
    "data1[1].sum()*0.01"
   ]
  },
  {
   "cell_type": "code",
   "execution_count": 19,
   "metadata": {},
   "outputs": [
    {
     "data": {
      "text/plain": [
       "-0.09852092489723155"
      ]
     },
     "execution_count": 19,
     "metadata": {},
     "output_type": "execute_result"
    }
   ],
   "source": [
    "data2[1].sum()*0.01"
   ]
  },
  {
   "cell_type": "code",
   "execution_count": 27,
   "metadata": {},
   "outputs": [
    {
     "data": {
      "text/plain": [
       "0.0016279068570944854"
      ]
     },
     "execution_count": 27,
     "metadata": {},
     "output_type": "execute_result"
    }
   ],
   "source": [
    "(abs(a) - abs(b))"
   ]
  },
  {
   "cell_type": "code",
   "execution_count": null,
   "metadata": {},
   "outputs": [],
   "source": [
    "def changeName(self, filename, path, cName, datanum):\n",
    "    try:\n",
    "        os.rename(path + '/' + filename, path + '/' + str(cName) + str(datanum) + '.jpg')\n",
    "    except FileExistsError:\n",
    "        pass"
   ]
  }
 ],
 "metadata": {
  "kernelspec": {
   "display_name": "Python 3",
   "language": "python",
   "name": "python3"
  },
  "language_info": {
   "codemirror_mode": {
    "name": "ipython",
    "version": 3
   },
   "file_extension": ".py",
   "mimetype": "text/x-python",
   "name": "python",
   "nbconvert_exporter": "python",
   "pygments_lexer": "ipython3",
   "version": "3.7.6"
  }
 },
 "nbformat": 4,
 "nbformat_minor": 4
}
